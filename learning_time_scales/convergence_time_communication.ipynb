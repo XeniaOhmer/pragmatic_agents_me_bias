{
 "cells": [
  {
   "cell_type": "markdown",
   "metadata": {},
   "source": [
    "# Convergence time scales in the two agent setting"
   ]
  },
  {
   "cell_type": "markdown",
   "metadata": {},
   "source": [
    "## Setup training and saving of the generated data "
   ]
  },
  {
   "cell_type": "code",
   "execution_count": null,
   "metadata": {},
   "outputs": [],
   "source": [
    "# IMPORTS \n",
    "\n",
    "import tensorflow as tf\n",
    "import numpy as np\n",
    "import os\n",
    "import sys\n",
    "import pickle\n",
    "\n",
    "sys.path.append(\"/net/store/cogmod/users/xenohmer/Conferences/CogSci2020/pragmatic_agents_me_bias/\")\n",
    "from RSA_communication_agents import RSASpeaker0, RSAListener0, RSASpeaker1, RSAListener1"
   ]
  },
  {
   "cell_type": "code",
   "execution_count": null,
   "metadata": {},
   "outputs": [],
   "source": [
    "# GENERATE INPUT STATES \n",
    "\n",
    "def generate_states(size, n, state_dist):\n",
    "    \"\"\" Generates the state input for the speaker in the two agent setting. The occurrence frequencies of the \n",
    "        n states follow either a uniform or a Zipfian distribution. \n",
    "        inputs: \n",
    "            size - number of data points\n",
    "            n - number of states and messages in the system\n",
    "            message_dist -  'Zipf' (definition see paper) or 'uniform', describes the occurence frequencies of \n",
    "                            the different input states\n",
    "        outputs: \n",
    "            data - training data \n",
    "            labels - training labels\n",
    "    \"\"\"\n",
    "    \n",
    "    data = np.zeros((size, n, n))\n",
    "    \n",
    "    if state_dist == 'uniform':\n",
    "        selection = np.random.choice(n, size=(size))\n",
    "    elif state_dist == 'Zipf':\n",
    "        norm_factor = np.sum([1/i for i in range(1,n+1)])\n",
    "        selection = np.random.choice(np.arange(n), size=1000, p=[(1/i)/norm_factor for i in range(1,n+1)])\n",
    "    \n",
    "    for i in range(n):\n",
    "        data[selection == i, i, :] = 1.\n",
    "    labels = tf.one_hot(selection, depth=n)\n",
    "    return np.float32(data), labels"
   ]
  },
  {
   "cell_type": "code",
   "execution_count": null,
   "metadata": {},
   "outputs": [],
   "source": [
    "# TRAIN A SPEAKER LISTENER PAIR AND SAVE THE PARAMETERS AS WELL AS THE REWARDS \n",
    "\n",
    "def run_speaker_listener_pair(learning_rate=0.01, n=3, n_epochs=100, reasoning=0, state_dist='uniform'):\n",
    "    \n",
    "    \n",
    "    # setup the training and save the parameters \n",
    "    \n",
    "    n_states = n                      # number of states \n",
    "    n_messages = n                    # number of messages\n",
    "    batch_size = 32                   # batch size\n",
    "    datasize = 1000                   # number of training data points\n",
    "    batches = datasize // batch_size  # number of bathes per epoch\n",
    "    \n",
    "    runs = 50                         # number of runs: 50 speaker-listener pairs are trained \n",
    "    init_mean = 0.1                   # mean for initialization of lexicon entries\n",
    "    init_std = 0.01                   # std for initialization of lexicon entries \n",
    "    \n",
    "    constraint = tf.keras.constraints.NonNeg() # constrains the lexica to have entries >= 0\n",
    "    \n",
    "    optimizer = tf.keras.optimizers.SGD(learning_rate=learning_rate)\n",
    "    \n",
    "    # set path to save data \n",
    "    if reasoning == 0: \n",
    "        if state_dist == 'uniform':\n",
    "            filename = ('data/communication/L' + str(reasoning) + '_S' + str(reasoning) + \n",
    "                        '/SGD_' + str(n) + '_states/')\n",
    "        elif state_dist == 'Zipf':\n",
    "            filename = ('data/communication_Zipf/L' + str(reasoning) + '_S' + str(reasoning) + \n",
    "                        '/SGD_' + str(n) + '_states/')\n",
    "    else: \n",
    "        if state_dist == 'uniform':\n",
    "            filename = ('data/communication/L' + str(reasoning) + '_S' + str(reasoning) + '/SGD_' + str(n) \n",
    "                        + '_states_5.0alpha/')\n",
    "        elif state_dist == 'Zipf':\n",
    "            filename = ('data/communication_Zipf/L' + str(reasoning) + '_S' + str(reasoning) + '/SGD_' + str(n) \n",
    "                        + '_states_5.0alpha/')\n",
    "    if not os.path.exists(filename):\n",
    "            os.makedirs(filename)\n",
    "    \n",
    "    # generate parameter dictionary\n",
    "    param_dict = {\"n_states\": n_states,\"n_messages\": n_messages, \"n_epochs\":n_epochs, \"batch_size\": batch_size,\n",
    "                  \"datasize\":datasize, \"initializer_truncated_normal_mean_std\": [init_mean, init_std], \n",
    "                  \"learning_rate\":learning_rate, \"runs\": runs, \"constraint\":constraint, \"optimizer\":optimizer}\n",
    "\n",
    "    with open(filename + 'param_dict.pickle', 'wb') as handle:\n",
    "        pickle.dump(param_dict, handle, protocol=pickle.HIGHEST_PROTOCOL)\n",
    "    \n",
    "    \n",
    "    # run the speaker-listener pairs \n",
    "    \n",
    "    for run in range(runs): \n",
    "        print(run)\n",
    "        all_rewards = []\n",
    "        \n",
    "        # create listener\n",
    "        lexicon_listener = tf.Variable(tf.initializers.TruncatedNormal(mean=init_mean, stddev=init_std)\n",
    "                                       ([n_states, n_messages]),\n",
    "                                       name=\"lexicon_listener\", \n",
    "                                       trainable=True, \n",
    "                                       dtype=tf.float32,\n",
    "                                       constraint=constraint)\n",
    "        if reasoning == 0:\n",
    "            listener = RSAListener0(n_states, n_messages, lexicon_listener)\n",
    "        elif reasoning == 1:\n",
    "            listener = RSAListener1(n_states, n_messages, lexicon_listener, alpha=5.)\n",
    "        listener.compile(optimizer=optimizer, loss=tf.keras.losses.CategoricalCrossentropy()) \n",
    "        \n",
    "        # create speaker \n",
    "        lexicon_speaker = tf.Variable(tf.initializers.TruncatedNormal(mean=init_mean, stddev=init_std)\n",
    "                                      ([n_states, n_messages]),\n",
    "                                      name=\"lexicon_speaker\", \n",
    "                                      trainable=True, \n",
    "                                      dtype=tf.float32,\n",
    "                                      constraint=constraint)\n",
    "        if reasoning == 0:\n",
    "            speaker = RSASpeaker0(n_states, n_messages, lexicon_speaker)\n",
    "        elif reasoning == 1:\n",
    "            speaker = RSASpeaker1(n_states, n_messages, lexicon_speaker, alpha=5.)\n",
    "        speaker.compile(optimizer=optimizer, loss=tf.keras.losses.CategoricalCrossentropy())\n",
    "        \n",
    "        # create data \n",
    "        data, labels = generate_states(datasize, n, state_dist=state_dist)\n",
    "        data = tf.convert_to_tensor(data)\n",
    "        \n",
    "        # train   \n",
    "        all_rewards = []\n",
    "        for i in range(n_epochs):\n",
    "            \n",
    "            shuffle_indices = np.random.permutation(datasize)\n",
    "            data = tf.gather(data, shuffle_indices)\n",
    "            labels = tf.gather(labels, shuffle_indices)\n",
    "\n",
    "            average_reward = []\n",
    "\n",
    "            for j in range(batches):\n",
    "                data_batch = data[j:j+batch_size]\n",
    "                labels_batch = labels[j:j+batch_size]\n",
    "\n",
    "                _, messages = speaker.get_messages(data_batch)\n",
    "                listener_input_messages = tf.reshape(tf.tile(messages, multiples=tf.constant([1,n_states])), \n",
    "                                                     shape=(batch_size, n_states, n_messages))\n",
    "                listener_input_messages = tf.transpose(listener_input_messages, [0,2,1])\n",
    "                _, states = listener.get_states(listener_input_messages)\n",
    "\n",
    "                rewards = tf.einsum('ij,ij->i', labels_batch, states)\n",
    "                average_reward.append(np.mean(rewards))\n",
    "                \n",
    "                # RL: \n",
    "                # Note that we implemented REINFORCE with a work-around using categorical crossentropy. \n",
    "                # This can be done by setting the labels to the agent's actions, and weighting the loss\n",
    "                # function by the rewards. \n",
    "                speaker.train_on_batch(data_batch, messages, sample_weight=rewards)\n",
    "                listener.train_on_batch(listener_input_messages, states, sample_weight=rewards)\n",
    "            \n",
    "            mean_reward = np.mean(average_reward)\n",
    "            all_rewards.append(mean_reward)\n",
    "            \n",
    "            if i%25==0:\n",
    "                print('average reward epoch ' + str(i), mean_reward)\n",
    "        \n",
    "        # save the mean rewards of all epochs \n",
    "        np.save(filename + 'rewards_'+str(run), all_rewards)"
   ]
  },
  {
   "cell_type": "markdown",
   "metadata": {},
   "source": [
    "## Run the training\n",
    "\n",
    "for different types of agents and different input distributions. "
   ]
  },
  {
   "cell_type": "markdown",
   "metadata": {},
   "source": [
    "### Uniform distribution"
   ]
  },
  {
   "cell_type": "code",
   "execution_count": null,
   "metadata": {},
   "outputs": [],
   "source": [
    "n = 10\n",
    "ne = 300\n",
    "lr = 0.01\n",
    "alpha = 5.\n",
    "state_dist = 'uniform'"
   ]
  },
  {
   "cell_type": "code",
   "execution_count": null,
   "metadata": {},
   "outputs": [],
   "source": [
    "# literal speaker-listener pair\n",
    "run_speaker_listener_pair(reasoning=0, n=n, n_epochs=ne, learning_rate=lr, state_dist=state_dist)"
   ]
  },
  {
   "cell_type": "code",
   "execution_count": null,
   "metadata": {},
   "outputs": [],
   "source": [
    "# pragmatic speaker-listener pair\n",
    "run_speaker_listener_pair(reasoning=1, n=n, n_epochs=ne, learning_rate=lr, state_dist=state_dist)"
   ]
  },
  {
   "cell_type": "markdown",
   "metadata": {},
   "source": [
    "### Zipfian input distribution"
   ]
  },
  {
   "cell_type": "code",
   "execution_count": null,
   "metadata": {},
   "outputs": [],
   "source": [
    "n = 10\n",
    "ne = 500\n",
    "lr = 0.01\n",
    "alpha = 5.\n",
    "state_dist = 'Zipf'"
   ]
  },
  {
   "cell_type": "code",
   "execution_count": null,
   "metadata": {},
   "outputs": [],
   "source": [
    "# literal speaker-listener pair\n",
    "run_speaker_listener_pair(reasoning=0, n=n, n_epochs=ne, learning_rate=lr, state_dist=state_dist)"
   ]
  },
  {
   "cell_type": "code",
   "execution_count": null,
   "metadata": {},
   "outputs": [],
   "source": [
    "# pragmatic speaker-listener pair\n",
    "run_speaker_listener_pair(reasoning=1, n=n, n_epochs=ne, learning_rate=lr, state_dist=state_dist)"
   ]
  },
  {
   "cell_type": "code",
   "execution_count": null,
   "metadata": {},
   "outputs": [],
   "source": []
  }
 ],
 "metadata": {
  "kernelspec": {
   "display_name": "Python 3",
   "language": "python",
   "name": "python3"
  },
  "language_info": {
   "codemirror_mode": {
    "name": "ipython",
    "version": 3
   },
   "file_extension": ".py",
   "mimetype": "text/x-python",
   "name": "python",
   "nbconvert_exporter": "python",
   "pygments_lexer": "ipython3",
   "version": "3.7.3"
  }
 },
 "nbformat": 4,
 "nbformat_minor": 2
}
