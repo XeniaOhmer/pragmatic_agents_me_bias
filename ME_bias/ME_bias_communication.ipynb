{
 "cells": [
  {
   "cell_type": "markdown",
   "metadata": {},
   "source": [
    "# ME bias in the two agent setting "
   ]
  },
  {
   "cell_type": "markdown",
   "metadata": {},
   "source": [
    "## Setup the training"
   ]
  },
  {
   "cell_type": "code",
   "execution_count": null,
   "metadata": {},
   "outputs": [],
   "source": [
    "# IMPORTS \n",
    "\n",
    "import tensorflow as tf\n",
    "import numpy as np\n",
    "import sys\n",
    "import os\n",
    "import pickle\n",
    "\n",
    "# sys.path.append(\"path to the project\")\n",
    "from RSA_communication_agents import RSASpeaker0, RSAListener0, RSASpeaker1, RSAListener1"
   ]
  },
  {
   "cell_type": "code",
   "execution_count": null,
   "metadata": {},
   "outputs": [],
   "source": [
    "# GENERATE INPUT STATES \n",
    "\n",
    "def generate_states(size, n, ME=1):\n",
    "    \"\"\" Generates the state input for the speaker\n",
    "        inputs: \n",
    "            size - number of data points\n",
    "            n - number of states and messages in the system\n",
    "            ME - number of states that are withheld from training, here 1 or 2\n",
    "        outputs: \n",
    "            data - training data \n",
    "            labels - training labels\n",
    "    \"\"\"\n",
    "\n",
    "    data = np.zeros((size, n, n))\n",
    "    if ME == 1:\n",
    "        selection = np.random.choice(n-1, size=(size))\n",
    "    elif ME == 2: \n",
    "        selection = np.random.choice([i for i in range(1, n-1)], size=(size))\n",
    "    for i in range(n):\n",
    "        data[selection == i, i, :] = 1.\n",
    "    labels = tf.one_hot(selection, depth=n)\n",
    "    \n",
    "    return np.float32(data), labels"
   ]
  },
  {
   "cell_type": "code",
   "execution_count": null,
   "metadata": {},
   "outputs": [],
   "source": [
    "# TRAIN A SPEAKER LISTENER PAIR AND SAVE THE PARAMETERS AS WELL AS THE REWARDS AND THE LEXICA\n",
    "\n",
    "def run_speaker_listener_pair(n=3, reasoning=0, n_epochs = 100, ME=1, learning_rate=0.001):\n",
    "    \"\"\" Trains speaker and listener in the two agent Lewis game as describe in Experiment 1. \n",
    "        inputs: \n",
    "            n - number of states and messages (in total)\n",
    "            reasoning - reasoning level of the speaker and the listener, 0 for literal, 1 for pragmatic \n",
    "            ME - number of messages that are left out during training, here 1 or 2 \n",
    "            learning_rate - learning rate for the Adam optimizer\n",
    "        By default 100 agent combinations (speaker+listener) are trained and all their lexica and rewards for \n",
    "        every epoch are saved (combination-wise).\n",
    "    \"\"\"\n",
    "    \n",
    "    # setup the training and save the parameters \n",
    "    \n",
    "    n_states = n                      # number of states \n",
    "    n_messages = n                    # number of messages\n",
    "    batch_size = 32                   # batch size\n",
    "    datasize = 1000                   # number of training data points\n",
    "    batches = datasize // batch_size  # number of bathes per epoch\n",
    "    \n",
    "    runs = 100                        # number of runs: 100 speaker-listener pairs are trained \n",
    "    init_mean = 0.5                   # mean for initialization of lexicon entries\n",
    "    init_std = 0.01                   # std for initialization of lexicon entries\n",
    "    \n",
    "    constraint = tf.keras.constraints.NonNeg() # constrains the lexica to have entries >= 0\n",
    "    \n",
    "    filename = 'data/communication/'+str(n)+'_states/'\n",
    "    if not os.path.exists(filename):\n",
    "            os.makedirs(filename)\n",
    "    \n",
    "    param_dict = {\"n_states\": n_states,\"n_messages\": n_messages, \"n_epochs\":n_epochs, \"batch_size\": batch_size,\n",
    "                  \"datasize\":datasize, \"initializer_truncated_normal_mean_std\": [init_mean, init_std], \n",
    "                  \"learning_rate\":learning_rate, \"runs\": runs, \"constraint\":constraint}\n",
    "    with open(filename + 'param_dict.pickle', 'wb') as handle:\n",
    "        pickle.dump(param_dict, handle, protocol=pickle.HIGHEST_PROTOCOL)\n",
    "    \n",
    "    \n",
    "    # run the speaker-listener pairs \n",
    "    \n",
    "    for run in range(1,101):\n",
    "    \n",
    "        # create data \n",
    "        data, labels = generate_states(datasize, n, ME=ME)\n",
    "        data = tf.convert_to_tensor(data)\n",
    "        \n",
    "        lexica_S = []\n",
    "        lexica_L = []\n",
    "        all_rewards = []\n",
    "        \n",
    "        # create listener\n",
    "        lexicon_listener = tf.Variable(tf.initializers.TruncatedNormal(mean=init_mean, stddev=init_std)\n",
    "                                       ([n_states, n_messages]),\n",
    "                                       name=\"lexicon_listener\", \n",
    "                                       trainable=True, \n",
    "                                       dtype=tf.float32,\n",
    "                                       constraint=tf.keras.constraints.NonNeg())\n",
    "        if reasoning == 0:\n",
    "            listener = RSAListener0(n_states, n_messages, lexicon_listener)\n",
    "        elif reasoning == 1:\n",
    "            listener = RSAListener1(n_states, n_messages, lexicon_listener, alpha=5.)\n",
    "        listener.compile(optimizer=tf.keras.optimizers.Adam(learning_rate=learning_rate),\n",
    "                         loss=tf.keras.losses.CategoricalCrossentropy())\n",
    "        \n",
    "        # create speaker\n",
    "        lexicon_speaker = tf.Variable(tf.initializers.TruncatedNormal(mean=init_mean, stddev=init_std)\n",
    "                                      ([n_states, n_messages]),\n",
    "                                      name=\"lexicon_speaker\", \n",
    "                                      trainable=True, dtype=tf.float32,\n",
    "                                      constraint=tf.keras.constraints.NonNeg())\n",
    "        \n",
    "        if reasoning == 0:\n",
    "            speaker = RSASpeaker0(n_states, n_messages, lexicon_speaker)\n",
    "        elif reasoning == 1:\n",
    "            speaker = RSASpeaker1(n_states, n_messages, lexicon_speaker, alpha=5.)\n",
    "        speaker.compile(optimizer=tf.keras.optimizers.Adam(learning_rate=learning_rate),\n",
    "                        loss=tf.keras.losses.CategoricalCrossentropy())\n",
    "        \n",
    "        # train\n",
    "        for i in range(n_epochs):\n",
    "            average_reward = []\n",
    "            \n",
    "            shuffle_indices = np.random.permutation(datasize)\n",
    "            data = tf.gather(data, shuffle_indices)\n",
    "            labels = tf.gather(labels, shuffle_indices)\n",
    "\n",
    "            for j in range(batches):\n",
    "                data_batch = data[j:j + batch_size]\n",
    "                labels_batch = labels[j:j + batch_size]\n",
    "\n",
    "                _, messages = speaker.get_messages(data_batch)\n",
    "                listener_input_messages = tf.reshape(tf.tile(messages, multiples=tf.constant([1, n_states])),\n",
    "                                                     shape=(batch_size, n_states, n_messages))\n",
    "                listener_input_messages = tf.transpose(listener_input_messages, [0, 2, 1])\n",
    "                _, states = listener.get_states(listener_input_messages)\n",
    "\n",
    "                rewards = tf.einsum('ij,ij->i', labels_batch, states)\n",
    "                average_reward.append(np.mean(rewards))\n",
    "                \n",
    "                # RL:\n",
    "                # Note that we implemented REINFORCE with a work-around using categorical crossentropy. \n",
    "                # This can be done by setting the labels to the agent's actions, and weighting the loss\n",
    "                # function by the rewards. \n",
    "                speaker.train_on_batch(data_batch, messages, sample_weight=rewards)\n",
    "                listener.train_on_batch(listener_input_messages, states, sample_weight=rewards)\n",
    "                \n",
    "            mean_reward = np.mean(average_reward)\n",
    "            all_rewards.append(mean_reward)\n",
    "            lexica_L.append(np.copy(listener.lexicon[:]))\n",
    "            lexica_S.append(np.copy(speaker.lexicon[:]))\n",
    "            \n",
    "        print('run ' + str(run), 'average reward ' +str(ME)+ ' ' + str(mean_reward))\n",
    "        \n",
    "        # save rewards and lexica \n",
    "        if reasoning == 0:\n",
    "            filename_full = (filename + 'L' + str(reasoning) +'_'+ 'S' + str(reasoning) + '_' + str(ME) \n",
    "                             + 'missing_')\n",
    "        elif reasoning == 1:\n",
    "            filename_full = (filename + 'L' + str(reasoning) +'_'+ 'S' + str(reasoning) + '_' + str(ME) \n",
    "                             + 'missing_5.0alpha_')\n",
    "            \n",
    "        np.save(filename_full + 'lexicon_S_run' + str(run), lexica_S)\n",
    "        np.save(filename_full + 'lexicon_L_run' + str(run), lexica_L)\n",
    "        np.save(filename_full + 'rewards_run' + str(run), all_rewards)"
   ]
  },
  {
   "cell_type": "markdown",
   "metadata": {},
   "source": [
    "## Run the training \n",
    "\n",
    "for different agent types, numbers of state (3 and 10) and different number of states being withheld from the training (1 and 2). "
   ]
  },
  {
   "cell_type": "markdown",
   "metadata": {},
   "source": [
    "### Literal speaker with literal listener"
   ]
  },
  {
   "cell_type": "code",
   "execution_count": null,
   "metadata": {},
   "outputs": [],
   "source": [
    "run_speaker_listener_pair(n=3, reasoning=0, n_epochs=100, ME=1)"
   ]
  },
  {
   "cell_type": "code",
   "execution_count": null,
   "metadata": {},
   "outputs": [],
   "source": [
    "run_speaker_listener_pair(n=3, reasoning=0, n_epochs=100, ME=2)"
   ]
  },
  {
   "cell_type": "code",
   "execution_count": null,
   "metadata": {},
   "outputs": [],
   "source": [
    "run_speaker_listener_pair(n=10, reasoning=0, n_epochs=1000, ME=1)"
   ]
  },
  {
   "cell_type": "code",
   "execution_count": null,
   "metadata": {},
   "outputs": [],
   "source": [
    "run_speaker_listener_pair(n=10, reasoning=0, n_epochs=1000, ME=2)"
   ]
  },
  {
   "cell_type": "markdown",
   "metadata": {},
   "source": [
    "### Pragmatic speaker with pragmatic listener"
   ]
  },
  {
   "cell_type": "code",
   "execution_count": null,
   "metadata": {},
   "outputs": [],
   "source": [
    "run_speaker_listener_pair(n=3, reasoning=1, n_epochs=100, ME=1)"
   ]
  },
  {
   "cell_type": "code",
   "execution_count": null,
   "metadata": {},
   "outputs": [],
   "source": [
    "run_speaker_listener_pair(n=3, reasoning=1, n_epochs=100, ME=2)"
   ]
  },
  {
   "cell_type": "code",
   "execution_count": null,
   "metadata": {},
   "outputs": [],
   "source": [
    "run_speaker_listener_pair(n=10, reasoning=1, n_epochs=1000, ME=1)"
   ]
  },
  {
   "cell_type": "code",
   "execution_count": null,
   "metadata": {},
   "outputs": [],
   "source": [
    "run_speaker_listener_pair(n=10, reasoning=1, n_epochs=1000, ME=2)"
   ]
  },
  {
   "cell_type": "code",
   "execution_count": null,
   "metadata": {},
   "outputs": [],
   "source": []
  }
 ],
 "metadata": {
  "kernelspec": {
   "display_name": "Python 3",
   "language": "python",
   "name": "python3"
  },
  "language_info": {
   "codemirror_mode": {
    "name": "ipython",
    "version": 3
   },
   "file_extension": ".py",
   "mimetype": "text/x-python",
   "name": "python",
   "nbconvert_exporter": "python",
   "pygments_lexer": "ipython3",
   "version": "3.7.3"
  }
 },
 "nbformat": 4,
 "nbformat_minor": 2
}
