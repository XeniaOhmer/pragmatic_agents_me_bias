{
 "cells": [
  {
   "cell_type": "markdown",
   "metadata": {},
   "source": [
    "# Convergence time scales in the single agent setting"
   ]
  },
  {
   "cell_type": "markdown",
   "metadata": {},
   "source": [
    "## Setup the training"
   ]
  },
  {
   "cell_type": "code",
   "execution_count": 1,
   "metadata": {},
   "outputs": [],
   "source": [
    "# IMPORTS\n",
    "\n",
    "import tensorflow as tf\n",
    "import numpy as np\n",
    "import os\n",
    "import sys\n",
    "import pickle\n",
    "\n",
    "# sys.path.append(\"path to the project\")\n",
    "from RSA_communication_agents import RSASpeaker0, RSAListener0, RSASpeaker1, RSAListener1"
   ]
  },
  {
   "cell_type": "code",
   "execution_count": 2,
   "metadata": {},
   "outputs": [],
   "source": [
    "# GENERATE INPUT MESSAGES \n",
    "\n",
    "def generate_messages(size, n, message_dist):\n",
    "    \"\"\" Generates the message input for the listener. The occurrence frequencies of the n messages follow either \n",
    "        a uniform or a Zipfian distribution. \n",
    "        inputs: \n",
    "            size - number of data points\n",
    "            n - number of states and messages in the system\n",
    "            message_dist -  'Zipf' (definition see paper) or 'uniform', describes the occurence frequencies of \n",
    "                            the different input messages\n",
    "        outputs: \n",
    "            data - training data \n",
    "            labels - training labels\n",
    "    \"\"\"\n",
    "    \n",
    "    data = np.zeros((size, n, n))\n",
    "    \n",
    "    if message_dist == 'uniform':\n",
    "        selection = np.random.choice(n, size=(size))\n",
    "    elif message_dist == 'Zipf':\n",
    "        norm_factor = np.sum([1/i for i in range(1,n+1)])\n",
    "        selection = np.random.choice(np.arange(n), size=1000, p=[(1/i)/norm_factor for i in range(1,n+1)])\n",
    "        \n",
    "    for i in range(n):\n",
    "        data[selection == i, i, :] = 1.\n",
    "    labels = tf.one_hot(selection, depth=n)\n",
    "    return np.float32(data), labels"
   ]
  },
  {
   "cell_type": "code",
   "execution_count": 3,
   "metadata": {},
   "outputs": [],
   "source": [
    "# TRAIN A LISTENER AND SAVE THE PARAMETERS AS WELL AS THE REWARDS \n",
    "\n",
    "def run_listener(n=3, reasoning=0, n_epochs=100, message_dist='uniform', learning_rate=0.01):\n",
    "    \"\"\" Trains the listener on a single agent Lewis game as described in Experiment 2. \n",
    "        inputs:\n",
    "            n - number of states and messages\n",
    "            reasoning - reasoning level of the listener, 0 for literal, 1 for pragmatic \n",
    "            n_epochs - number of training epochs\n",
    "            learning_rate - learning rate for the Adam optimizer\n",
    "            message_dist -  'Zipf' (definition see paper) or 'uniform', describes the occurence frequencies of \n",
    "                            the different input messages\n",
    "        By default 50 agents are trained and all their lexica and rewards for every epoch are saved (agent-wise).\n",
    "    \"\"\"\n",
    "    \n",
    "    # setup the training and save the parameters \n",
    "\n",
    "    n_states = n                      # number of states \n",
    "    n_messages = n                    # number of messages\n",
    "    batch_size = 32                   # batch size\n",
    "    datasize = 1000                   # number of training data points\n",
    "    batches = datasize // batch_size  # number of bathes per epoch\n",
    "    \n",
    "    runs = 50                         # number of runs: 50 speaker-listener pairs are trained \n",
    "    init_mean = 0.1                   # mean for initialization of lexicon entries\n",
    "    init_std = 0.01                   # std for initialization of lexicon entries \n",
    "    \n",
    "    constraint = tf.keras.constraints.NonNeg() # constrains the lexica to have entries >= 0\n",
    "\n",
    "    optimizer = tf.keras.optimizers.SGD(learning_rate=learning_rate)\n",
    "    file_ending = 'SGD/' \n",
    "    \n",
    "    # set path to save data \n",
    "    if reasoning == 0: \n",
    "        if message_dist == 'uniform': \n",
    "            filename = ('data/labeling/L' + str(reasoning) + '/SGD_' + str(n) + '_states/')\n",
    "        elif message_dist == 'Zipf':\n",
    "            filename = ('data/labeling_Zipf/L' + str(reasoning) + '/SGD_' + str(n) + '_states/')\n",
    "    elif reasoning == 1: \n",
    "        if message_dist == 'uniform':\n",
    "            filename = ('data/labeling/L' + str(reasoning) + '/SGD_' + str(n) + '_states_5.0alpha/')\n",
    "        elif smessage_dist == 'Zipf':\n",
    "            filename = ('data/labeling_Zipf/L' + str(reasoning) + '/SGD_' + str(n) + '_states_5.0alpha/')\n",
    "    if not os.path.exists(filename):\n",
    "            os.makedirs(filename)\n",
    "    \n",
    "    # generate parameter dictionary\n",
    "    param_dict = {\"n_states\": n_states,\"n_messages\": n_messages, \"n_epochs\":n_epochs, \"batch_size\": batch_size,\n",
    "                  \"datasize\":datasize, \"initializer_truncated_normal_mean_std\": [init_mean, init_std], \n",
    "                  \"learning_rate\":learning_rate, \"runs\": runs, \"constraint\":constraint, \"optimizer\":optimizer}\n",
    "    \n",
    "    with open(filename + 'param_dict.pickle', 'wb') as handle:\n",
    "        pickle.dump(param_dict, handle, protocol=pickle.HIGHEST_PROTOCOL)\n",
    "    \n",
    "    \n",
    "    # run the listeners\n",
    "    \n",
    "    for run in range(runs):\n",
    "        print(run)\n",
    "        \n",
    "        # create listener\n",
    "        lexicon = tf.Variable(tf.initializers.TruncatedNormal(mean=init_mean, stddev=init_std)\n",
    "                              ([n_states, n_messages]),\n",
    "                              name=\"lexicon\", \n",
    "                              trainable=True, \n",
    "                              dtype=tf.float32,\n",
    "                              constraint=tf.keras.constraints.NonNeg())\n",
    "        if reasoning == 0: \n",
    "            listener = RSAListener0(n_states, n_messages, lexicon)\n",
    "        elif reasoning == 1: \n",
    "            listener = RSAListener1(n_states, n_messages, lexicon, alpha=5.)\n",
    "        listener.compile(optimizer=optimizer, loss=tf.keras.losses.CategoricalCrossentropy())\n",
    "        \n",
    "        # create data\n",
    "        data, labels = generate_messages(datasize, n, message_dist=message_dist)\n",
    "        data = tf.convert_to_tensor(data)\n",
    "        \n",
    "        # train \n",
    "        all_rewards = []\n",
    "        for i in range(n_epochs):\n",
    "            \n",
    "            shuffle_indices = np.random.permutation(datasize)\n",
    "            data = tf.gather(data, shuffle_indices)\n",
    "            labels = tf.gather(labels, shuffle_indices)\n",
    "            \n",
    "            rewards_epoch = []\n",
    "\n",
    "            for j in range(batches):\n",
    "                data_batch = data[j:j + batch_size]\n",
    "                labels_batch = labels[j:j + batch_size]\n",
    "\n",
    "                _, states = listener.get_states(data_batch)\n",
    "                \n",
    "                # RL: \n",
    "                # Note that we implemented REINFORCE with a work-around using categorical crossentropy. \n",
    "                # This can be done by setting the labels to the agent's actions, and weighting the loss\n",
    "                # function by the rewards. \n",
    "                rewards = tf.einsum('ij,ij->i', labels_batch, states)\n",
    "                loss = listener.train_on_batch(data_batch, states, sample_weight=rewards)\n",
    "                \n",
    "                rewards_epoch.append(np.mean(rewards))\n",
    "            \n",
    "            mean_reward = np.mean(rewards_epoch)\n",
    "            \n",
    "            if i%25==0:\n",
    "                print('average reward epoch ' + str(i), mean_reward)\n",
    "            all_rewards.append(mean_reward)\n",
    "        \n",
    "        # save the mean rewards of all epochs \n",
    "        np.save(filename + 'rewards_'+str(run), all_rewards)"
   ]
  },
  {
   "cell_type": "markdown",
   "metadata": {},
   "source": [
    "## Run the training "
   ]
  },
  {
   "cell_type": "markdown",
   "metadata": {},
   "source": [
    "### Uniform input distribution"
   ]
  },
  {
   "cell_type": "code",
   "execution_count": null,
   "metadata": {},
   "outputs": [],
   "source": [
    "n = 10 # number of states and messages\n",
    "lr = 0.01 # learning rate\n",
    "ne = 100 # number of epochs\n",
    "message_dist = 'uniform' # message input distribution"
   ]
  },
  {
   "cell_type": "code",
   "execution_count": null,
   "metadata": {},
   "outputs": [],
   "source": [
    "# literal listener\n",
    "run_listener(learning_rate=lr, n=n, n_epochs=ne, reasoning=0, message_dist=message_dist)"
   ]
  },
  {
   "cell_type": "code",
   "execution_count": null,
   "metadata": {},
   "outputs": [],
   "source": [
    "# pragmatic listener\n",
    "run_listener(learning_rate=lr, n=n, n_epochs=ne, reasoning=1, message_dist=message_dist)"
   ]
  },
  {
   "cell_type": "markdown",
   "metadata": {},
   "source": [
    "### Zipfian input distribution"
   ]
  },
  {
   "cell_type": "code",
   "execution_count": null,
   "metadata": {},
   "outputs": [],
   "source": [
    "n = 10 # number of states and messages\n",
    "lr = 0.01 # learning rate\n",
    "ne = 100 # number of epochs\n",
    "message_dist = 'Zipf' # message input distribution"
   ]
  },
  {
   "cell_type": "code",
   "execution_count": null,
   "metadata": {},
   "outputs": [],
   "source": [
    "# literal listener\n",
    "run_listener(learning_rate=lr, n=n, n_epochs=ne, reasoning=0, message_dist=message_dist)"
   ]
  },
  {
   "cell_type": "code",
   "execution_count": null,
   "metadata": {},
   "outputs": [],
   "source": [
    "# pragmatic listener\n",
    "run_listener(learning_rate=lr, n=n, n_epochs=ne, reasoning=1, message_dist=message_dist)"
   ]
  },
  {
   "cell_type": "code",
   "execution_count": null,
   "metadata": {},
   "outputs": [],
   "source": []
  }
 ],
 "metadata": {
  "kernelspec": {
   "display_name": "Python 3",
   "language": "python",
   "name": "python3"
  },
  "language_info": {
   "codemirror_mode": {
    "name": "ipython",
    "version": 3
   },
   "file_extension": ".py",
   "mimetype": "text/x-python",
   "name": "python",
   "nbconvert_exporter": "python",
   "pygments_lexer": "ipython3",
   "version": "3.7.3"
  }
 },
 "nbformat": 4,
 "nbformat_minor": 2
}
